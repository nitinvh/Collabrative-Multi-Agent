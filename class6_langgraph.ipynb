{
 "cells": [
  {
   "cell_type": "markdown",
   "metadata": {},
   "source": [
    "# Implimentation of Collobarative Multi Agents"
   ]
  },
  {
   "cell_type": "code",
   "execution_count": 18,
   "metadata": {},
   "outputs": [],
   "source": [
    "from langchain_core.tools import tool\n",
    "from langchain_experimental.utilities import PythonREPL\n",
    "from typing import Annotated\n",
    "from langgraph.graph import StateGraph,END,START, MessagesState\n",
    "from langgraph.prebuilt import create_react_agent\n",
    "from langchain_core.messages import BaseMessage, HumanMessage\n",
    "from langchain.tools.tavily_search import TavilySearchResults\n",
    "import matplotlib"
   ]
  },
  {
   "cell_type": "code",
   "execution_count": 19,
   "metadata": {},
   "outputs": [
    {
     "data": {
      "text/plain": [
       "True"
      ]
     },
     "execution_count": 19,
     "metadata": {},
     "output_type": "execute_result"
    }
   ],
   "source": [
    "from dotenv import load_dotenv\n",
    "import os\n",
    "load_dotenv()"
   ]
  },
  {
   "cell_type": "code",
   "execution_count": 20,
   "metadata": {},
   "outputs": [],
   "source": [
    "os.environ[\"OPENAI_API_KEY\"] = os.getenv(\"OPENAI_API_KEY\")\n",
    "\n",
    "TAVILY_API_KEY=os.getenv(\"TAVILY_API_KEY\")\n",
    "search_tool=TavilySearchResults(tavily_api_key=TAVILY_API_KEY)"
   ]
  },
  {
   "cell_type": "code",
   "execution_count": 21,
   "metadata": {},
   "outputs": [],
   "source": [
    "@tool\n",
    "def python_repl_tool(code:Annotated[str,\"The python code to execute to generate your chart.\"]):\n",
    "    \"\"\"Use this to execute python code. If you want to see the output of a value,\n",
    "    you should print it out with `print(...)`. This is visible to the user.\"\"\"\n",
    "    try:\n",
    "        result = PythonREPL.run(code)\n",
    "    except BaseException as e:\n",
    "        return f\"Failed to execute. Error: {repr(e)}\"\n",
    "    \n",
    "    result_str = f\"Successfully executed:\\n\\`\\`\\`python\\n{code}\\n\\`\\`\\`\\nStdout: {result}\"\n",
    "    return (\n",
    "        result_str + \"\\n\\nIf you have completed all tasks, respond with FINAL ANSWER.\"\n",
    "    )"
   ]
  },
  {
   "cell_type": "code",
   "execution_count": 22,
   "metadata": {},
   "outputs": [],
   "source": [
    "def make_system_prompt(instruction:str)->str:\n",
    "    return  (\n",
    "        \"You are a helpful AI assistant, collaborating with other assistants.\"\n",
    "        \" Use the provided tools to progress towards answering the question.\"\n",
    "        \" If you are unable to fully answer, that's OK, another assistant with different tools \"\n",
    "        \" will help where you left off. Execute what you can to make progress.\"\n",
    "        \" If you or any of the other assistants have the final answer or deliverable,\"\n",
    "        \" prefix your response with FINAL ANSWER so the team knows to stop.\"\n",
    "        \"If user asks to generate chart then until chart is generated doint respond with FINAL ANSWER\"\n",
    "        f\"\\n{instruction}\"\n",
    "    )"
   ]
  },
  {
   "cell_type": "code",
   "execution_count": 23,
   "metadata": {},
   "outputs": [],
   "source": [
    "def get_next_node(last_message:BaseMessage, goto:str):\n",
    "    if \"FINAL ANSWER\" in last_message.content:\n",
    "        # Any agent decided the work is done\n",
    "        return END\n",
    "    return goto\n"
   ]
  },
  {
   "cell_type": "code",
   "execution_count": 24,
   "metadata": {},
   "outputs": [],
   "source": [
    "from langchain_openai import ChatOpenAI\n",
    "llm = ChatOpenAI(model=\"gpt-4.1-2025-04-14\")"
   ]
  },
  {
   "cell_type": "code",
   "execution_count": 25,
   "metadata": {},
   "outputs": [],
   "source": [
    "from typing import Literal\n",
    "from langgraph.types import Command"
   ]
  },
  {
   "cell_type": "code",
   "execution_count": 26,
   "metadata": {},
   "outputs": [],
   "source": [
    "def research_node(state:MessagesState) -> Command[Literal[\"chart_generator\",END]]:\n",
    "    research_agent = create_react_agent(llm,\n",
    "                                        tools=[search_tool],\n",
    "                                        prompt=make_system_prompt(\n",
    "        \"You can only do research. You are working with a chart generator colleague.\"\n",
    "    ), \n",
    "    )\n",
    "\n",
    "    result = research_agent.invoke(state)\n",
    "\n",
    "    goto = get_next_node(result[\"messages\"][-1],\"chart_generator\")\n",
    "    result[\"messages\"][-1] = HumanMessage(content=result[\"messages\"][-1].content, name=\"researcher\")\n",
    "    \n",
    "    return Command(update={\"messages\":result[\"messages\"]},goto=goto)"
   ]
  },
  {
   "cell_type": "code",
   "execution_count": 27,
   "metadata": {},
   "outputs": [],
   "source": [
    "def chart_node(state:MessagesState) -> Command[Literal[\"researcher\",END]]:\n",
    "    chart_agent = create_react_agent(llm,\n",
    "                                        tools=[python_repl_tool],\n",
    "                                        prompt=make_system_prompt(\n",
    "        \"You can only do chart generator. You are working with a researcher colleague.\"\n",
    "    ), \n",
    "    )\n",
    "\n",
    "    result = chart_agent.invoke(state)\n",
    "\n",
    "    goto = get_next_node(result[\"messages\"][-1],\"researcher\")\n",
    "    result[\"messages\"][-1] = HumanMessage(content=result[\"messages\"][-1].content, name=\"chart_generator\")\n",
    "    \n",
    "    return Command(update={\"messages\":result[\"messages\"]},goto=goto)"
   ]
  },
  {
   "cell_type": "code",
   "execution_count": 28,
   "metadata": {},
   "outputs": [],
   "source": [
    "workflow = StateGraph(MessagesState)"
   ]
  },
  {
   "cell_type": "code",
   "execution_count": 29,
   "metadata": {},
   "outputs": [],
   "source": [
    "workflow.add_node(\"researcher\",research_node)\n",
    "workflow.add_node(\"chart_generator\",chart_node)\n",
    "workflow.add_edge(START,\"researcher\")\n",
    "\n",
    "app = workflow.compile()"
   ]
  },
  {
   "cell_type": "code",
   "execution_count": 30,
   "metadata": {},
   "outputs": [
    {
     "data": {
      "image/png": "[encoded data removed]",
      "text/plain": [
       "<IPython.core.display.Image object>"
      ]
     },
     "metadata": {},
     "output_type": "display_data"
    }
   ],
   "source": [
    "from IPython.display import Image,display\n",
    "display(Image(app.get_graph().draw_mermaid_png()))"
   ]
  },
  {
   "cell_type": "code",
   "execution_count": 32,
   "metadata": {},
   "outputs": [
    {
     "data": {
      "text/plain": [
       "{'messages': [HumanMessage(content=\"get the India's GDP over the past 3 years,after getting the code,compile it using chart generator, then make a line chart of it.Once you make the chart, finish.\", additional_kwargs={}, response_metadata={}, id='845d8083-e83a-48a9-bfe5-5e109d08eccf'),\n",
       "  AIMessage(content='', additional_kwargs={'tool_calls': [{'id': 'call_iaN5Kvo2QlCEd1nI2g9unkp9', 'function': {'arguments': '{\"query\":\"India GDP data last 3 years\"}', 'name': 'tavily_search_results_json'}, 'type': 'function'}], 'refusal': None}, response_metadata={'token_usage': {'completion_tokens': 24, 'prompt_tokens': 234, 'total_tokens': 258, 'completion_tokens_details': {'accepted_prediction_tokens': 0, 'audio_tokens': 0, 'reasoning_tokens': 0, 'rejected_prediction_tokens': 0}, 'prompt_tokens_details': {'audio_tokens': 0, 'cached_tokens': 0}}, 'model_name': 'gpt-4.1-2025-04-14', 'system_fingerprint': 'fp_b3f1157249', 'id': 'chatcmpl-BpkoIIR9ojziz6d7NygIUbVR5rarw', 'service_tier': 'default', 'finish_reason': 'tool_calls', 'logprobs': None}, id='run--67f911a6-2539-4932-8696-b8dd688793fe-0', tool_calls=[{'name': 'tavily_search_results_json', 'args': {'query': 'India GDP data last 3 years'}, 'id': 'call_iaN5Kvo2QlCEd1nI2g9unkp9', 'type': 'tool_call'}], usage_metadata={'input_tokens': 234, 'output_tokens': 24, 'total_tokens': 258, 'input_token_details': {'audio': 0, 'cache_read': 0}, 'output_token_details': {'audio': 0, 'reasoning': 0}}),\n",
       "  ToolMessage(content='[{\"title\": \"India GDP - Worldometer\", \"url\": \"https://www.worldometers.info/gdp/india-gdp/\", \"content\": \"| Year | GDP Nominal (Current USD) | GDP Real (Inflation adj.) | GDP Change | GDP per capita | Pop. Change | Population |\\\\n| --- | --- | --- | --- | --- | --- | --- |\\\\n| 2023 | $3,567,550,000,000 | $3,215,970,000,000 | 8.15% | $2,236 | 0.89% | 1,438,069,596 |\\\\n| 2022 | $3,353,470,000,000 | $2,973,540,000,000 | 6.99% | $2,086 | 0.79% | 1,425,423,212 |\\\\n| 2021 | $3,167,270,000,000 | $2,779,350,000,000 | 9.69% | $1,965 | 0.83% | 1,414,203,896 | [...] GDP per Capita in India (with a population of 1,438,069,596 people) was $2,236 in 2023, an increase of $150 from $2,086 in 2022; this represents a change of 7.2% in GDP per capita. [...] | 2009 | 1,341,890,000,000 |\\\\n| 2010 | 1,675,620,000,000 |\\\\n| 2011 | 1,823,050,000,000 |\\\\n| 2012 | 1,827,640,000,000 |\\\\n| 2013 | 1,856,720,000,000 |\\\\n| 2014 | 2,039,130,000,000 |\\\\n| 2015 | 2,103,590,000,000 |\\\\n| 2016 | 2,294,800,000,000 |\\\\n| 2017 | 2,651,470,000,000 |\\\\n| 2018 | 2,702,930,000,000 |\\\\n| 2019 | 2,835,610,000,000 |\\\\n| 2020 | 2,674,850,000,000 |\\\\n| 2021 | 3,167,270,000,000 |\\\\n| 2022 | 3,353,470,000,000 |\\\\n| 2023 | 3,567,550,000,000 |\", \"score\": 0.8976328}, {\"title\": \"India GDP | Historical Chart & Data - Macrotrends\", \"url\": \"https://www.macrotrends.net/global-metrics/countries/ind/india/gdp-gross-domestic-product\", \"content\": \"| India GDP Per Capita (US $) |\\\\n| --- |\\\\n| 2023 | $2,480.79 |\\\\n| 2022 | $2,352.61 |\\\\n| 2021 | $2,239.61 |\\\\n| 2020 | $1,907.04 |\\\\n| 2019 | $2,041.43 |\\\\n| 2018 | $1,966.25 |\\\\n| 2017 | $1,950.1 |\\\\n| 2016 | $1,707.51 |\\\\n| 2015 | $1,584 |\\\\n| 2014 | $1,553.88 |\\\\n| 2013 | $1,432.84 |\\\\n| 2012 | $1,429.32 |\\\\n| 2011 | $1,445.46 |\\\\n| 2010 | $1,347.52 |\\\\n| 2009 | $1,094.95 |\\\\n| 2008 | $992.52 |\\\\n| 2007 | $1,021.89 |\\\\n| 2006 | $801.67 |\\\\n| 2005 | $710.49 |\\\\n| 2004 | $624.26 |\\\\n| 2003 | $544.14 |\\\\n| 2002 | $469.15 | [...] | India GDP GDP (US $) |\\\\n| --- |\\\\n| 2023 | $3.568T |\\\\n| 2022 | $3.353T |\\\\n| 2021 | $3.167T |\\\\n| 2020 | $2.675T |\\\\n| 2019 | $2.836T |\\\\n| 2018 | $2.703T |\\\\n| 2017 | $2.651T |\\\\n| 2016 | $2.295T |\\\\n| 2015 | $2.104T |\\\\n| 2014 | $2.039T |\\\\n| 2013 | $1.857T |\\\\n| 2012 | $1.828T |\\\\n| 2011 | $1.823T |\\\\n| 2010 | $1.676T |\\\\n| 2009 | $1.342T |\\\\n| 2008 | $1.199T |\\\\n| 2007 | $1.217T |\\\\n| 2006 | $940.26B |\\\\n| 2005 | $820.38B |\\\\n| 2004 | $709.15B |\\\\n| 2003 | $607.70B |\\\\n| 2002 | $514.94B |\\\\n| 2001 | $485.44B |\\\\n| 2000 | $468.40B | [...] India GDP for 2022 was 3.353 trillion US dollars, a 5.88% increase from 2021.\\\\n   India GDP for 2021 was 3.167 trillion US dollars, a 18.41% increase from 2020.\\\\n   India GDP for 2020 was 2.675 trillion US dollars, a 5.67% decline from 2019.\", \"score\": 0.8812988}, {\"title\": \"GDP Of India: Current And Historical Growth Rate, India\\'s Rank In ...\", \"url\": \"https://www.forbesindia.com/article/explainers/gdp-india/85337/1\", \"content\": \"In the last quarter of FY24, India\\'s GDP grew by 8.2 percent, ₹47.24 lakh crore, according to the data released by the Ministry of Statistics and Programme Implementation and the National Statistical Office. It was better than NSO\\'s earlier estimates for real GDP growth for FY24 at 7.3 percent. \\\\\"Nominal GDP has witnessed a growth rate of 9.6 percent in FY24 over the growth rate of 14.2 percent in FY23,” the NSO said. [...] | Financial Year | GDP | GDP Per Capita (Nominal) | Real GDP (% Change |\\\\n| --- | --- | --- | --- |\\\\n| 2024 | $3,940.00B | $2,730 | 7% (Projected) |\\\\n| 2023 | $3,737.00B | $2,610 | 7.2% |\\\\n| 2022 | $3,385.09B | $2,389 | 7.00% |\\\\n| 2021 | $3,150.31B | $2,238 | 9.05% |\\\\n| 2020 | $2,671.60B | $1,913 | -5.83% |\\\\n| 2019 | $2,835.61B | $2,050 | 3.87% |\\\\n| 2018 | $2,702.93B | $1,974 | 6.45% |\\\\n| 2017 | $2,651.47B | $1,958 | 6.80% |\\\\n| 2016 | $2,294.80B | $1,714 | 8.26% |\\\\n| 2015 | $2,103.59B | $1,590 | 8.00% |\", \"score\": 0.8585411}, {\"title\": \"Economy of India - Wikipedia\", \"url\": \"https://en.wikipedia.org/wiki/Economy_of_India\", \"content\": \"| 2019 | 70.394 | 95.06 |\\\\n| 2020 | 72.97 | 100.05 |\\\\n| 2021 | 74.98 | 101.56 |\\\\n| 2022 | 81.35 | 96.23 |\\\\n| 2023 | 81.94 | 100.95 | [...] | 2017 | Image 338: Increase8,354.7 | Image 339: Increase6,169.5 | Image 340: Increase2,702.9 | Image 341: Increase1,958.0 | Image 342: Increase6.8% | Image 343: Increase3.6% | Image 344: Positive decrease7.7% | Image 345: Negative increase69.7% |\\\\n| 2018 | Image 346: Increase9,230.8 | Image 347: Increase6,742.7 | Image 348: Increase2,702.9 | Image 349: Increase1,974.4 | Image 350: Increase6.5% | Image 351: Increase3.4% | Image 352: Steady7.7% | Image 353: Negative increase70.4% | [...] | 2027 | Image 415: Increase20,420.1 | Image 416: Increase13,801.3 | Image 417: Increase5,193.5 | Image 418: Increase3,510.1 | Image 419: Increase6.5% | Image 420: Positive decrease4.0% | n/a | Image 421: Positive decrease80.7% |\\\\n| 2028 | Image 422: Increase22,143.7 | Image 423: Increase14,844.9 | Image 424: Increase5,723.2 | Image 425: Increase3,836.8 | Image 426: Increase6.5% | Image 427: Increase4.0% | n/a | Image 428: Positive decrease80.0% |\", \"score\": 0.8458536}, {\"title\": \"GDP of India 1987-2030 - Statista\", \"url\": \"https://www.statista.com/statistics/263771/gross-domestic-product-gdp-in-india/\", \"content\": \"IMF. (April 22, 2025). India: Gross domestic product (GDP) in current prices from 1987 to 2030 (in billion U.S. dollars) [Graph]. In Statista. Retrieved June 20, 2025, from \\\\n\\\\nIMF. \\\\\"India: Gross domestic product (GDP) in current prices from 1987 to 2030 (in billion U.S. dollars).\\\\\" Chart. April 22, 2025. Statista. Accessed June 20, 2025. [...] | Characteristic | GDP in billion U.S. dollars |\\\\n| --- | --- |\\\\n| 2030 | 6,769.82 |\\\\n| 2029 | 6,148.43 |\\\\n| 2028 | 5,584.48 |\\\\n| 2027 | 5,069.47 |\\\\n| 2026 | 4,601.23 |\\\\n| 2025 | 4,187.02 |\\\\n| 2024 | 3,909.1 |\\\\n| 2023 | 3,638.49 |\\\\n| 2022 | 3,346.11 |\\\\n| 2021 | 3,167.27 |\\\\n| 2020 | 2,674.85 |\\\\n| 2019 | 2,835.61 |\\\\n| 2018 | 2,702.93 |\\\\n\\\\n Showing entries 1 to 13 (44 entries in total) \\\\n\\\\n Previous  Next \\\\n\\\\n×Zoomable Statistic: Select the range in the chart you want to zoom in on.\\\\n\\\\n Loading statistic...\", \"score\": 0.8390101}]', name='tavily_search_results_json', id='040b40a0-0a3a-449f-9b57-6878de737a01', tool_call_id='call_iaN5Kvo2QlCEd1nI2g9unkp9', artifact={'query': 'India GDP data last 3 years', 'follow_up_questions': None, 'answer': None, 'images': [], 'results': [{'url': 'https://www.worldometers.info/gdp/india-gdp/', 'title': 'India GDP - Worldometer', 'content': '| Year | GDP Nominal (Current USD) | GDP Real (Inflation adj.) | GDP Change | GDP per capita | Pop. Change | Population |\\n| --- | --- | --- | --- | --- | --- | --- |\\n| 2023 | $3,567,550,000,000 | $3,215,970,000,000 | 8.15% | $2,236 | 0.89% | 1,438,069,596 |\\n| 2022 | $3,353,470,000,000 | $2,973,540,000,000 | 6.99% | $2,086 | 0.79% | 1,425,423,212 |\\n| 2021 | $3,167,270,000,000 | $2,779,350,000,000 | 9.69% | $1,965 | 0.83% | 1,414,203,896 | [...] GDP per Capita in India (with a population of 1,438,069,596 people) was $2,236 in 2023, an increase of $150 from $2,086 in 2022; this represents a change of 7.2% in GDP per capita. [...] | 2009 | 1,341,890,000,000 |\\n| 2010 | 1,675,620,000,000 |\\n| 2011 | 1,823,050,000,000 |\\n| 2012 | 1,827,640,000,000 |\\n| 2013 | 1,856,720,000,000 |\\n| 2014 | 2,039,130,000,000 |\\n| 2015 | 2,103,590,000,000 |\\n| 2016 | 2,294,800,000,000 |\\n| 2017 | 2,651,470,000,000 |\\n| 2018 | 2,702,930,000,000 |\\n| 2019 | 2,835,610,000,000 |\\n| 2020 | 2,674,850,000,000 |\\n| 2021 | 3,167,270,000,000 |\\n| 2022 | 3,353,470,000,000 |\\n| 2023 | 3,567,550,000,000 |', 'score': 0.8976328, 'raw_content': None}, {'url': 'https://www.macrotrends.net/global-metrics/countries/ind/india/gdp-gross-domestic-product', 'title': 'India GDP | Historical Chart & Data - Macrotrends', 'content': '| India GDP Per Capita (US $) |\\n| --- |\\n| 2023 | $2,480.79 |\\n| 2022 | $2,352.61 |\\n| 2021 | $2,239.61 |\\n| 2020 | $1,907.04 |\\n| 2019 | $2,041.43 |\\n| 2018 | $1,966.25 |\\n| 2017 | $1,950.1 |\\n| 2016 | $1,707.51 |\\n| 2015 | $1,584 |\\n| 2014 | $1,553.88 |\\n| 2013 | $1,432.84 |\\n| 2012 | $1,429.32 |\\n| 2011 | $1,445.46 |\\n| 2010 | $1,347.52 |\\n| 2009 | $1,094.95 |\\n| 2008 | $992.52 |\\n| 2007 | $1,021.89 |\\n| 2006 | $801.67 |\\n| 2005 | $710.49 |\\n| 2004 | $624.26 |\\n| 2003 | $544.14 |\\n| 2002 | $469.15 | [...] | India GDP GDP (US $) |\\n| --- |\\n| 2023 | $3.568T |\\n| 2022 | $3.353T |\\n| 2021 | $3.167T |\\n| 2020 | $2.675T |\\n| 2019 | $2.836T |\\n| 2018 | $2.703T |\\n| 2017 | $2.651T |\\n| 2016 | $2.295T |\\n| 2015 | $2.104T |\\n| 2014 | $2.039T |\\n| 2013 | $1.857T |\\n| 2012 | $1.828T |\\n| 2011 | $1.823T |\\n| 2010 | $1.676T |\\n| 2009 | $1.342T |\\n| 2008 | $1.199T |\\n| 2007 | $1.217T |\\n| 2006 | $940.26B |\\n| 2005 | $820.38B |\\n| 2004 | $709.15B |\\n| 2003 | $607.70B |\\n| 2002 | $514.94B |\\n| 2001 | $485.44B |\\n| 2000 | $468.40B | [...] India GDP for 2022 was 3.353 trillion US dollars, a 5.88% increase from 2021.\\n   India GDP for 2021 was 3.167 trillion US dollars, a 18.41% increase from 2020.\\n   India GDP for 2020 was 2.675 trillion US dollars, a 5.67% decline from 2019.', 'score': 0.8812988, 'raw_content': None}, {'url': 'https://www.forbesindia.com/article/explainers/gdp-india/85337/1', 'title': \"GDP Of India: Current And Historical Growth Rate, India's Rank In ...\", 'content': 'In the last quarter of FY24, India\\'s GDP grew by 8.2 percent, ₹47.24 lakh crore, according to the data released by the Ministry of Statistics and Programme Implementation and the National Statistical Office. It was better than NSO\\'s earlier estimates for real GDP growth for FY24 at 7.3 percent. \"Nominal GDP has witnessed a growth rate of 9.6 percent in FY24 over the growth rate of 14.2 percent in FY23,” the NSO said. [...] | Financial Year | GDP | GDP Per Capita (Nominal) | Real GDP (% Change |\\n| --- | --- | --- | --- |\\n| 2024 | $3,940.00B | $2,730 | 7% (Projected) |\\n| 2023 | $3,737.00B | $2,610 | 7.2% |\\n| 2022 | $3,385.09B | $2,389 | 7.00% |\\n| 2021 | $3,150.31B | $2,238 | 9.05% |\\n| 2020 | $2,671.60B | $1,913 | -5.83% |\\n| 2019 | $2,835.61B | $2,050 | 3.87% |\\n| 2018 | $2,702.93B | $1,974 | 6.45% |\\n| 2017 | $2,651.47B | $1,958 | 6.80% |\\n| 2016 | $2,294.80B | $1,714 | 8.26% |\\n| 2015 | $2,103.59B | $1,590 | 8.00% |', 'score': 0.8585411, 'raw_content': None}, {'url': 'https://en.wikipedia.org/wiki/Economy_of_India', 'title': 'Economy of India - Wikipedia', 'content': '| 2019 | 70.394 | 95.06 |\\n| 2020 | 72.97 | 100.05 |\\n| 2021 | 74.98 | 101.56 |\\n| 2022 | 81.35 | 96.23 |\\n| 2023 | 81.94 | 100.95 | [...] | 2017 | Image 338: Increase8,354.7 | Image 339: Increase6,169.5 | Image 340: Increase2,702.9 | Image 341: Increase1,958.0 | Image 342: Increase6.8% | Image 343: Increase3.6% | Image 344: Positive decrease7.7% | Image 345: Negative increase69.7% |\\n| 2018 | Image 346: Increase9,230.8 | Image 347: Increase6,742.7 | Image 348: Increase2,702.9 | Image 349: Increase1,974.4 | Image 350: Increase6.5% | Image 351: Increase3.4% | Image 352: Steady7.7% | Image 353: Negative increase70.4% | [...] | 2027 | Image 415: Increase20,420.1 | Image 416: Increase13,801.3 | Image 417: Increase5,193.5 | Image 418: Increase3,510.1 | Image 419: Increase6.5% | Image 420: Positive decrease4.0% | n/a | Image 421: Positive decrease80.7% |\\n| 2028 | Image 422: Increase22,143.7 | Image 423: Increase14,844.9 | Image 424: Increase5,723.2 | Image 425: Increase3,836.8 | Image 426: Increase6.5% | Image 427: Increase4.0% | n/a | Image 428: Positive decrease80.0% |', 'score': 0.8458536, 'raw_content': None}, {'url': 'https://www.statista.com/statistics/263771/gross-domestic-product-gdp-in-india/', 'title': 'GDP of India 1987-2030 - Statista', 'content': 'IMF. (April 22, 2025). India: Gross domestic product (GDP) in current prices from 1987 to 2030 (in billion U.S. dollars) [Graph]. In Statista. Retrieved June 20, 2025, from \\n\\nIMF. \"India: Gross domestic product (GDP) in current prices from 1987 to 2030 (in billion U.S. dollars).\" Chart. April 22, 2025. Statista. Accessed June 20, 2025. [...] | Characteristic | GDP in billion U.S. dollars |\\n| --- | --- |\\n| 2030 | 6,769.82 |\\n| 2029 | 6,148.43 |\\n| 2028 | 5,584.48 |\\n| 2027 | 5,069.47 |\\n| 2026 | 4,601.23 |\\n| 2025 | 4,187.02 |\\n| 2024 | 3,909.1 |\\n| 2023 | 3,638.49 |\\n| 2022 | 3,346.11 |\\n| 2021 | 3,167.27 |\\n| 2020 | 2,674.85 |\\n| 2019 | 2,835.61 |\\n| 2018 | 2,702.93 |\\n\\n Showing entries 1 to 13 (44 entries in total) \\n\\n Previous  Next \\n\\n×Zoomable Statistic: Select the range in the chart you want to zoom in on.\\n\\n Loading statistic...', 'score': 0.8390101, 'raw_content': None}], 'response_time': 3.39}),\n",
       "  HumanMessage(content=\"Here is India's nominal GDP over the past 3 years:\\n\\n- 2021: $3,167,270,000,000\\n- 2022: $3,353,470,000,000\\n- 2023: $3,567,550,000,000\\n\\nThese figures are based on data from Worldometer and Macrotrends.\\n\\nThe code/data for the chart:\\n\\n| Year | GDP (USD Trillions) |\\n|------|---------------------|\\n| 2021 |        3.167        |\\n| 2022 |        3.353        |\\n| 2023 |        3.568        |\\n\\nPlease use this data to generate a line chart.\", additional_kwargs={}, response_metadata={}, name='researcher', id='9f076e79-f2c9-40f0-a33b-9df9bc604dc8'),\n",
       "  AIMessage(content='', additional_kwargs={'tool_calls': [{'id': 'call_ubzMZyfWaHBLp0fm4k7QUKqS', 'function': {'arguments': '{\"code\":\"import matplotlib.pyplot as plt\\\\n\\\\n# Data for the chart\\\\nyears = [2021, 2022, 2023]\\\\ngdp_values = [3.167, 3.353, 3.568]\\\\n\\\\nplt.figure(figsize=(8,5))\\\\nplt.plot(years, gdp_values, marker=\\'o\\', linestyle=\\'-\\', color=\\'b\\')\\\\nplt.title(\\\\\"India\\'s Nominal GDP (2021-2023)\\\\\")\\\\nplt.xlabel(\\'Year\\')\\\\nplt.ylabel(\\'GDP (USD Trillions)\\')\\\\nplt.grid(True, linestyle=\\'--\\', alpha=0.7)\\\\nplt.tight_layout()\\\\nplt.savefig(\\'/mnt/data/india_gdp_2021_2023.png\\')\\\\nplt.show()\" }', 'name': 'python_repl_tool'}, 'type': 'function'}], 'refusal': None}, response_metadata={'token_usage': {'completion_tokens': 175, 'prompt_tokens': 3054, 'total_tokens': 3229, 'completion_tokens_details': {'accepted_prediction_tokens': 0, 'audio_tokens': 0, 'reasoning_tokens': 0, 'rejected_prediction_tokens': 0}, 'prompt_tokens_details': {'audio_tokens': 0, 'cached_tokens': 0}}, 'model_name': 'gpt-4.1-2025-04-14', 'system_fingerprint': 'fp_799e4ca3f1', 'id': 'chatcmpl-BpkoOhgHo0uTRpVSZRhSpRgbVK77S', 'service_tier': 'default', 'finish_reason': 'tool_calls', 'logprobs': None}, id='run--9f787df9-22be-48bb-a5b3-3c8b6ae9d587-0', tool_calls=[{'name': 'python_repl_tool', 'args': {'code': 'import matplotlib.pyplot as plt\\n\\n# Data for the chart\\nyears = [2021, 2022, 2023]\\ngdp_values = [3.167, 3.353, 3.568]\\n\\nplt.figure(figsize=(8,5))\\nplt.plot(years, gdp_values, marker=\\'o\\', linestyle=\\'-\\', color=\\'b\\')\\nplt.title(\"India\\'s Nominal GDP (2021-2023)\")\\nplt.xlabel(\\'Year\\')\\nplt.ylabel(\\'GDP (USD Trillions)\\')\\nplt.grid(True, linestyle=\\'--\\', alpha=0.7)\\nplt.tight_layout()\\nplt.savefig(\\'/mnt/data/india_gdp_2021_2023.png\\')\\nplt.show()'}, 'id': 'call_ubzMZyfWaHBLp0fm4k7QUKqS', 'type': 'tool_call'}], usage_metadata={'input_tokens': 3054, 'output_tokens': 175, 'total_tokens': 3229, 'input_token_details': {'audio': 0, 'cache_read': 0}, 'output_token_details': {'audio': 0, 'reasoning': 0}}),\n",
       "  ToolMessage(content='Failed to execute. Error: TypeError(\"PythonREPL.run() missing 1 required positional argument: \\'command\\'\")', name='python_repl_tool', id='c5e27615-45ea-43fb-9eaa-7510c2c8a79b', tool_call_id='call_ubzMZyfWaHBLp0fm4k7QUKqS'),\n",
       "  AIMessage(content='', additional_kwargs={'tool_calls': [{'id': 'call_P3JdaEC6yNQ4bf2v5kVL7Uk1', 'function': {'arguments': '{\"code\":\"import matplotlib.pyplot as plt\\\\n\\\\n# Data for the chart\\\\nyears = [2021, 2022, 2023]\\\\ngdp = [3.167, 3.353, 3.568]\\\\n\\\\nplt.plot(years, gdp, marker=\\'o\\')\\\\nplt.title(\\\\\"India\\'s Nominal GDP (2021-2023)\\\\\")\\\\nplt.xlabel(\\'Year\\')\\\\nplt.ylabel(\\'GDP (USD Trillions)\\')\\\\nplt.grid(True, linestyle=\\'--\\', alpha=0.6)\\\\nplt.tight_layout()\\\\nplt.savefig(\\'/mnt/data/india_gdp_2021_2023.png\\')\\\\nplt.show()\"}', 'name': 'python_repl_tool'}, 'type': 'function'}], 'refusal': None}, response_metadata={'token_usage': {'completion_tokens': 157, 'prompt_tokens': 3265, 'total_tokens': 3422, 'completion_tokens_details': {'accepted_prediction_tokens': 0, 'audio_tokens': 0, 'reasoning_tokens': 0, 'rejected_prediction_tokens': 0}, 'prompt_tokens_details': {'audio_tokens': 0, 'cached_tokens': 3072}}, 'model_name': 'gpt-4.1-2025-04-14', 'system_fingerprint': 'fp_799e4ca3f1', 'id': 'chatcmpl-BpkoQmaLVo393U8OVo2tPZUM8Nnwj', 'service_tier': 'default', 'finish_reason': 'tool_calls', 'logprobs': None}, id='run--356445e5-5c61-465c-bb3b-5fa0b00d483b-0', tool_calls=[{'name': 'python_repl_tool', 'args': {'code': 'import matplotlib.pyplot as plt\\n\\n# Data for the chart\\nyears = [2021, 2022, 2023]\\ngdp = [3.167, 3.353, 3.568]\\n\\nplt.plot(years, gdp, marker=\\'o\\')\\nplt.title(\"India\\'s Nominal GDP (2021-2023)\")\\nplt.xlabel(\\'Year\\')\\nplt.ylabel(\\'GDP (USD Trillions)\\')\\nplt.grid(True, linestyle=\\'--\\', alpha=0.6)\\nplt.tight_layout()\\nplt.savefig(\\'/mnt/data/india_gdp_2021_2023.png\\')\\nplt.show()'}, 'id': 'call_P3JdaEC6yNQ4bf2v5kVL7Uk1', 'type': 'tool_call'}], usage_metadata={'input_tokens': 3265, 'output_tokens': 157, 'total_tokens': 3422, 'input_token_details': {'audio': 0, 'cache_read': 3072}, 'output_token_details': {'audio': 0, 'reasoning': 0}}),\n",
       "  ToolMessage(content='Failed to execute. Error: TypeError(\"PythonREPL.run() missing 1 required positional argument: \\'command\\'\")', name='python_repl_tool', id='c60238fe-306c-42f0-8cce-dd9ea7d0852b', tool_call_id='call_P3JdaEC6yNQ4bf2v5kVL7Uk1'),\n",
       "  AIMessage(content='', additional_kwargs={'tool_calls': [{'id': 'call_CNzDFqenSqgGoEVVr7JpI0j7', 'function': {'arguments': '{\"code\":\"import matplotlib.pyplot as plt\\\\n\\\\n# Data\\\\nyears = [2021, 2022, 2023]\\\\ngdp = [3.167, 3.353, 3.568]\\\\n\\\\nplt.figure(figsize=(8,5))\\\\nplt.plot(years, gdp, marker=\\'o\\', color=\\'blue\\', label=\\\\\"Nominal GDP\\\\\")\\\\nplt.title(\\\\\"India\\'s Nominal GDP Over the Past 3 Years\\\\\")\\\\nplt.xlabel(\\\\\"Year\\\\\")\\\\nplt.ylabel(\\\\\"GDP (USD Trillions)\\\\\")\\\\nplt.legend()\\\\nplt.grid(True)\\\\nplt.tight_layout()\\\\nplt.savefig(\\'/mnt/data/india_gdp_line_chart.png\\')\\\\nplt.show()\"}', 'name': 'python_repl_tool'}, 'type': 'function'}], 'refusal': None}, response_metadata={'token_usage': {'completion_tokens': 163, 'prompt_tokens': 3457, 'total_tokens': 3620, 'completion_tokens_details': {'accepted_prediction_tokens': 0, 'audio_tokens': 0, 'reasoning_tokens': 0, 'rejected_prediction_tokens': 0}, 'prompt_tokens_details': {'audio_tokens': 0, 'cached_tokens': 3328}}, 'model_name': 'gpt-4.1-2025-04-14', 'system_fingerprint': 'fp_799e4ca3f1', 'id': 'chatcmpl-BpkoRyzBd2AP570C1kzdJ8j4mnOQH', 'service_tier': 'default', 'finish_reason': 'tool_calls', 'logprobs': None}, id='run--aa06492d-69b3-45af-9c4e-bf70418584de-0', tool_calls=[{'name': 'python_repl_tool', 'args': {'code': 'import matplotlib.pyplot as plt\\n\\n# Data\\nyears = [2021, 2022, 2023]\\ngdp = [3.167, 3.353, 3.568]\\n\\nplt.figure(figsize=(8,5))\\nplt.plot(years, gdp, marker=\\'o\\', color=\\'blue\\', label=\"Nominal GDP\")\\nplt.title(\"India\\'s Nominal GDP Over the Past 3 Years\")\\nplt.xlabel(\"Year\")\\nplt.ylabel(\"GDP (USD Trillions)\")\\nplt.legend()\\nplt.grid(True)\\nplt.tight_layout()\\nplt.savefig(\\'/mnt/data/india_gdp_line_chart.png\\')\\nplt.show()'}, 'id': 'call_CNzDFqenSqgGoEVVr7JpI0j7', 'type': 'tool_call'}], usage_metadata={'input_tokens': 3457, 'output_tokens': 163, 'total_tokens': 3620, 'input_token_details': {'audio': 0, 'cache_read': 3328}, 'output_token_details': {'audio': 0, 'reasoning': 0}}),\n",
       "  ToolMessage(content='Failed to execute. Error: TypeError(\"PythonREPL.run() missing 1 required positional argument: \\'command\\'\")', name='python_repl_tool', id='7b69fd4f-d164-4d8f-8871-d0cbd77b58f8', tool_call_id='call_CNzDFqenSqgGoEVVr7JpI0j7'),\n",
       "  HumanMessage(content='There is a technical issue preventing the chart execution at the moment. If you have another platform to run Python code, here is the code you can use to generate the line chart:\\n\\n```python\\nimport matplotlib.pyplot as plt\\n\\n# Data for the chart\\nyears = [2021, 2022, 2023]\\ngdp_values = [3.167, 3.353, 3.568]\\n\\nplt.figure(figsize=(8,5))\\nplt.plot(years, gdp_values, marker=\\'o\\', linestyle=\\'-\\', color=\\'b\\')\\nplt.title(\"India\\'s Nominal GDP (2021-2023)\")\\nplt.xlabel(\\'Year\\')\\nplt.ylabel(\\'GDP (USD Trillions)\\')\\nplt.grid(True, linestyle=\\'--\\', alpha=0.7)\\nplt.tight_layout()\\nplt.show()\\n```\\n\\nYou can copy and run this code in your Python environment, and it will generate the required line chart of India\\'s GDP data for the last three years. If the tool becomes available, I can create and provide the chart file directly.', additional_kwargs={}, response_metadata={}, name='chart_generator', id='be99f923-c71e-46a0-ba0b-1a5395216126'),\n",
       "  HumanMessage(content='Thank you for your patience. At the moment, there is a technical issue preventing the direct generation of charts. However, you can use the following Python code on your own system to generate the line chart for India\\'s GDP over the past 3 years:\\n\\n```python\\nimport matplotlib.pyplot as plt\\n\\n# Data for the chart\\nyears = [2021, 2022, 2023]\\ngdp_values = [3.167, 3.353, 3.568]\\n\\nplt.figure(figsize=(8,5))\\nplt.plot(years, gdp_values, marker=\\'o\\', linestyle=\\'-\\', color=\\'b\\')\\nplt.title(\"India\\'s Nominal GDP (2021-2023)\")\\nplt.xlabel(\\'Year\\')\\nplt.ylabel(\\'GDP (USD Trillions)\\')\\nplt.grid(True, linestyle=\\'--\\', alpha=0.7)\\nplt.tight_layout()\\nplt.show()\\n```\\n\\nThis code will produce a line chart displaying India\\'s nominal GDP from 2021 to 2023. If the chart generation tool becomes accessible again, I can generate and share the chart image directly. Let me know if you need any further assistance!', additional_kwargs={}, response_metadata={}, name='researcher', id='ed316a28-b0b4-47c9-bf4b-a9b947f0023e'),\n",
       "  HumanMessage(content='FINAL ANSWER\\n\\nThank you for your patience. Here is the Python code you can use to generate a line chart of India\\'s GDP (in USD trillions) over the past 3 years:\\n\\n```python\\nimport matplotlib.pyplot as plt\\n\\n# Data for the chart\\nyears = [2021, 2022, 2023]\\ngdp_values = [3.167, 3.353, 3.568]\\n\\nplt.figure(figsize=(8,5))\\nplt.plot(years, gdp_values, marker=\\'o\\', linestyle=\\'-\\', color=\\'b\\')\\nplt.title(\"India\\'s Nominal GDP (2021-2023)\")\\nplt.xlabel(\\'Year\\')\\nplt.ylabel(\\'GDP (USD Trillions)\\')\\nplt.grid(True, linestyle=\\'--\\', alpha=0.7)\\nplt.tight_layout()\\nplt.show()\\n```\\n\\nThis will produce a clear line chart showing India\\'s nominal GDP growth from 2021 to 2023. If you need a downloadable image or further assistance, let me know!', additional_kwargs={}, response_metadata={}, name='chart_generator', id='a96e26ae-e091-47aa-a217-2ec99a187737')]}"
      ]
     },
     "execution_count": 32,
     "metadata": {},
     "output_type": "execute_result"
    }
   ],
   "source": [
    "app.invoke({\"messages\": [(\"user\",\"get the India's GDP over the past 3 years,after getting the code,compile it using chart generator, then make a line chart of it.Once you make the chart, finish.\")]})"
   ]
  },
  {
   "cell_type": "code",
   "execution_count": 33,
   "metadata": {},
   "outputs": [],
   "source": [
    "# PythonREPL.run(\"\"\"\n",
    "# python\\nimport matplotlib.pyplot as plt\\n\\nyears = [2021, 2022, 2023]\\ngdp = [3.167, 3.353, 3.568]\\n\\nplt.figure(figsize=(8,5))\\nplt.plot(years, gdp, marker=\\'o\\', linestyle=\\'-\\', color=\\'b\\', label=\\'GDP\\')\\nplt.title(\"India\\'s GDP Over the Past 3 Years\")\\nplt.xlabel(\\'Year\\')\\nplt.ylabel(\\'GDP (Trillion USD)\\')\\nplt.xticks(years)\\nplt.grid(True)\\nplt.legend()\\nplt.tight_layout()\\nplt.show()\\n\n",
    "#  \"\"\")"
   ]
  },
  {
   "cell_type": "code",
   "execution_count": null,
   "metadata": {},
   "outputs": [],
   "source": []
  }
 ],
 "metadata": {
  "kernelspec": {
   "display_name": "Python 3",
   "language": "python",
   "name": "python3"
  },
  "language_info": {
   "codemirror_mode": {
    "name": "ipython",
    "version": 3
   },
   "file_extension": ".py",
   "mimetype": "text/x-python",
   "name": "python",
   "nbconvert_exporter": "python",
   "pygments_lexer": "ipython3",
   "version": "3.11.0"
  }
 },
 "nbformat": 4,
 "nbformat_minor": 2
}
